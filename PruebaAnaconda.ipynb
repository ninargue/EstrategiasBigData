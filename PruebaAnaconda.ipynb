{
 "cells": [
  {
   "cell_type": "markdown",
   "metadata": {},
   "source": [
    "# Prueba Anaconda\n",
    "\n",
    "Para ejecutar las celdas oprimir CTRL + ENTER sobre esta.\n",
    "\n",
    "    --> La primera celda instalará los packages en las versiones que necesitamos.\n",
    "\n",
    "    --> Con la segunda celda verificamos las librerias y sus versiones.\n",
    "    \n",
    "Nota: requirements.txt debe estar en la misma carpeta que este notebook."
   ]
  },
  {
   "cell_type": "code",
   "execution_count": null,
   "metadata": {},
   "outputs": [],
   "source": [
    "!pip install -r requirements.txt"
   ]
  },
  {
   "cell_type": "code",
   "execution_count": 1,
   "metadata": {},
   "outputs": [
    {
     "name": "stdout",
     "output_type": "stream",
     "text": [
      "Versión pandas: 1.1.3\n",
      "\n",
      "Versión numpy: 1.19.2\n",
      "\n",
      "Versión matplotlib: 3.3.2\n",
      "\n",
      "Versión seaborn: 0.11.0\n",
      "\n",
      "Versión sklearn: 0.23.2\n",
      "\n",
      "Versión scipy: 1.5.2\n",
      "\n",
      "Versión statsmodels: 0.12.2\n",
      "\n"
     ]
    }
   ],
   "source": [
    "import pandas as pd\n",
    "print(f\"Versión pandas: {pd.__version__}\\n\")\n",
    "\n",
    "import numpy as np\n",
    "print(f\"Versión numpy: {np.__version__}\\n\")\n",
    "\n",
    "import matplotlib\n",
    "print(f\"Versión matplotlib: {matplotlib.__version__}\\n\")\n",
    "\n",
    "import seaborn as sns\n",
    "print(f\"Versión seaborn: {sns.__version__}\\n\")\n",
    "\n",
    "import sklearn\n",
    "print(f\"Versión sklearn: {sklearn.__version__}\\n\")\n",
    "\n",
    "import scipy\n",
    "print(f\"Versión scipy: {scipy.__version__}\\n\")\n",
    "\n",
    "import statsmodels as sm\n",
    "print(f\"Versión statsmodels: {sm.__version__}\\n\")"
   ]
  }
 ],
 "metadata": {
  "kernelspec": {
   "display_name": "Python 3",
   "language": "python",
   "name": "python3"
  },
  "language_info": {
   "codemirror_mode": {
    "name": "ipython",
    "version": 3
   },
   "file_extension": ".py",
   "mimetype": "text/x-python",
   "name": "python",
   "nbconvert_exporter": "python",
   "pygments_lexer": "ipython3",
   "version": "3.8.5"
  }
 },
 "nbformat": 4,
 "nbformat_minor": 4
}
